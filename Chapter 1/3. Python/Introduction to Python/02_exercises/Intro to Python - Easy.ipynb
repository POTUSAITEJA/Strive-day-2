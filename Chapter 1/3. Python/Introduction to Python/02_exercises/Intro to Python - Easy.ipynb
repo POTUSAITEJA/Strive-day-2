{
 "cells": [
  {
   "cell_type": "markdown",
   "source": [
    "Here you have a collection of guided exercises for the first class on Python. <br>\n",
    "The exercises are divided by topic, following the topics reviewed during the theory session, and for each topic you have some mandatory exercises, and other optional exercises, which you are invited to do if you still have time after the mandatory exercises. <br>\n",
    "\n",
    "Remember that you have 5 hours to solve these exercises, after which we will review the most interesting exercises together. If you don't finish all the exercises, you can work on them tonightor tomorrow. \n",
    "\n",
    "At the end of the class, we will upload the code with the solutions of the exercises so that you can review them again if needed. If you still have not finished some exercises, try to do them first by yourself, before taking a look at the solutions: you are doing these exercises for yourself, so it is always the best to do them your way first, as it is the fastest way to learn!"
   ],
   "metadata": {}
  },
  {
   "cell_type": "markdown",
   "source": [
    "**Exercise 1.1:** The cover price of a book is 24.95 EUR, but bookstores get a 40 percent discount. Shipping costs 3 EUR for the first copy and 75 cents for each additional copy. **Calculate the total wholesale costs for 60 copies**. "
   ],
   "metadata": {}
  },
  {
   "cell_type": "code",
   "execution_count": 1,
   "source": [
    "#Your Code Here\r\n",
    "\"This is the programe to calculate the wholesale cost of the books when it has a 40% discount\"\r\n",
    "Cover_price_of_the_book = 24.95 \r\n",
    "Bookstores_discount_percentage = 40 # %\r\n",
    "Total_number_of_books = 60\r\n",
    "Shipping_costs = (3+(0.75*(Total_number_of_books-1)))\r\n",
    "\r\n",
    "\r\n",
    "Each_book_cost_without_shipping_costs = (Cover_price_of_the_book-(Bookstores_discount_percentage/100)*Cover_price_of_the_book)\r\n",
    "print(Each_book_cost_without_shipping_costs)\r\n",
    "\r\n",
    "\r\n",
    "Wholesale_cost_for_all_books = (Total_number_of_books*Each_book_cost_without_shipping_costs)+Shipping_costs\r\n",
    "print(Wholesale_cost_for_all_books)\r\n",
    "\r\n"
   ],
   "outputs": [
    {
     "output_type": "stream",
     "name": "stdout",
     "text": [
      "14.969999999999999\n",
      "945.4499999999999\n"
     ]
    }
   ],
   "metadata": {}
  },
  {
   "cell_type": "markdown",
   "source": [
    "**Exercise 1.2:** When something is wrong with your code, Python will raise errors. Often these will be \"syntax errors\" that signal that something is wrong with the form of your code (e.g., the code in the previous exercise raised a `SyntaxError`). There are also \"runtime errors\", which signal that your code was in itself formally correct, but that something went wrong during the code's execution. A good example is the `ZeroDivisionError`, which indicates that you tried to divide a number by zero (which, as you may know, is not allowed). Try to make Python **raise such a `ZeroDivisionError`.**"
   ],
   "metadata": {}
  },
  {
   "cell_type": "code",
   "execution_count": null,
   "source": [
    "#Your Code Here\r\n",
    "a = 3\r\n",
    "b = 3\r\n",
    "c = 4\r\n",
    "\r\n",
    "d = a%b\r\n",
    "print (d)\r\n",
    "\r\n",
    "e = c/d\r\n",
    "print(e)\r\n"
   ],
   "outputs": [
    {
     "output_type": "stream",
     "name": "stdout",
     "text": [
      "0\n"
     ]
    },
    {
     "output_type": "error",
     "ename": "ZeroDivisionError",
     "evalue": "division by zero",
     "traceback": [
      "\u001b[1;31m---------------------------------------------------------------------------\u001b[0m",
      "\u001b[1;31mZeroDivisionError\u001b[0m                         Traceback (most recent call last)",
      "\u001b[1;32m~\\AppData\\Local\\Temp/ipykernel_1520/1697194446.py\u001b[0m in \u001b[0;36m<module>\u001b[1;34m\u001b[0m\n\u001b[0;32m      7\u001b[0m \u001b[0mprint\u001b[0m \u001b[1;33m(\u001b[0m\u001b[0md\u001b[0m\u001b[1;33m)\u001b[0m\u001b[1;33m\u001b[0m\u001b[1;33m\u001b[0m\u001b[0m\n\u001b[0;32m      8\u001b[0m \u001b[1;33m\u001b[0m\u001b[0m\n\u001b[1;32m----> 9\u001b[1;33m \u001b[0me\u001b[0m \u001b[1;33m=\u001b[0m \u001b[0mc\u001b[0m\u001b[1;33m/\u001b[0m\u001b[0md\u001b[0m\u001b[1;33m\u001b[0m\u001b[1;33m\u001b[0m\u001b[0m\n\u001b[0m\u001b[0;32m     10\u001b[0m \u001b[0mprint\u001b[0m\u001b[1;33m(\u001b[0m\u001b[0me\u001b[0m\u001b[1;33m)\u001b[0m\u001b[1;33m\u001b[0m\u001b[1;33m\u001b[0m\u001b[0m\n",
      "\u001b[1;31mZeroDivisionError\u001b[0m: division by zero"
     ]
    }
   ],
   "metadata": {}
  },
  {
   "cell_type": "markdown",
   "source": [
    "**Exercise 5.1**: Create a countdown function that starts at a certain count, and counts down to zero. Instead of zero, print \"Blast off!\". Use a `for` loop. \n"
   ],
   "metadata": {}
  },
  {
   "cell_type": "code",
   "execution_count": null,
   "source": [
    "# Countdown\r\n",
    "def countdown(start_from):\r\n",
    "    \r\n",
    "    x = []\r\n",
    "    for i in range(start_from,-1,-1):\r\n",
    "        x.append(i)\r\n",
    "    x[-1] = \"Blastoff\"\r\n",
    "    \r\n",
    "    return x\r\n",
    "x = countdown(20)\r\n",
    "print (x)"
   ],
   "outputs": [
    {
     "output_type": "stream",
     "name": "stdout",
     "text": [
      "[20, 19, 18, 17, 16, 15, 14, 13, 12, 11, 10, 9, 8, 7, 6, 5, 4, 3, 2, 1, 'Blastoff']\n"
     ]
    }
   ],
   "metadata": {}
  },
  {
   "cell_type": "markdown",
   "source": [
    "**Exercise 5.2:** Write and test three functions that return the largest, the smallest, and the number of dividables by 3 in a given collection of numbers. Use the algorithm described earlier in the Part 5 lecture :)"
   ],
   "metadata": {}
  },
  {
   "cell_type": "code",
   "execution_count": 4,
   "source": [
    "\r\n",
    "mylist = []\r\n",
    "\r\n",
    "input_string = input('Enter the elements of a list seperated by space ')\r\n",
    "print(\"\\n\")\r\n",
    "\r\n",
    "user_list = input_string.split()\r\n",
    "print ('list: ', user_list)\r\n",
    "\r\n",
    "for i in range(len(user_list)):\r\n",
    "    user_list[i] = int(user_list[i])\r\n",
    "\r\n",
    "\r\n",
    "def get_max_value(user_list):\r\n",
    "    max_value = max(user_list)\r\n",
    "    return max_value\r\n",
    "\r\n",
    "Largest_number = get_max_value(user_list)\r\n",
    "\r\n",
    "print('Largest number in the given list is: ', Largest_number)\r\n",
    "\r\n",
    "\r\n",
    "def get_min_value(user_list):\r\n",
    "    min_value = min(user_list)\r\n",
    "    return min_value\r\n",
    "\r\n",
    "Smallest_number = get_min_value(user_list)\r\n",
    "print('Smallest number in the given list is: ', Smallest_number)\r\n",
    "\r\n",
    "def list_divided_by_3(user_list):\r\n",
    "    for x in user_list:\r\n",
    "        if x%3 == 0:\r\n",
    "           mylist.append(x)\r\n",
    "    return mylist\r\n",
    "   # print(mylist)\r\n",
    "\r\n",
    "list_of_numbers_divisible_by_3 = list_divided_by_3(user_list)\r\n",
    "print('list_of_numbers_divisible_by_3 is: ', list_of_numbers_divisible_by_3)\r\n",
    "\r\n"
   ],
   "outputs": [
    {
     "output_type": "stream",
     "name": "stdout",
     "text": [
      "\n",
      "\n",
      "list:  ['2', '3', '4', '667', '8', '65', '45', '43', '43', '43', '56', '87', '98', '65', '4', '65', '87', '78']\n",
      "Largest number in the given list is:  667\n",
      "Smallest number in the given list is:  2\n",
      "list_of_numbers_divisible_by_3 is:  [3, 45, 87, 87, 78]\n"
     ]
    }
   ],
   "metadata": {}
  }
 ],
 "metadata": {
  "kernelspec": {
   "name": "python3",
   "display_name": "Python 3.8.8 64-bit ('base': conda)"
  },
  "language_info": {
   "codemirror_mode": {
    "name": "ipython",
    "version": 3
   },
   "file_extension": ".py",
   "mimetype": "text/x-python",
   "name": "python",
   "nbconvert_exporter": "python",
   "pygments_lexer": "ipython3",
   "version": "3.8.8"
  },
  "interpreter": {
   "hash": "8fac594bfae6525c0c41b4041d2d72effa188cc8ead05f81b1fab2bb098927fb"
  }
 },
 "nbformat": 4,
 "nbformat_minor": 4
}