{
 "cells": [
  {
   "cell_type": "markdown",
   "source": [
    "Here you have a collection of guided exercises for the first class on Python. <br>\n",
    "The exercises are divided by topic, following the topics reviewed during the theory session, and for each topic you have some mandatory exercises, and other optional exercises, which you are invited to do if you still have time after the mandatory exercises. <br>\n",
    "\n",
    "Remember that you have 5 hours to solve these exercises, after which we will review the most interesting exercises together. If you don't finish all the exercises, you can work on them tonightor tomorrow. \n",
    "\n",
    "At the end of the class, we will upload the code with the solutions of the exercises so that you can review them again if needed. If you still have not finished some exercises, try to do them first by yourself, before taking a look at the solutions: you are doing these exercises for yourself, so it is always the best to do them your way first, as it is the fastest way to learn!"
   ],
   "metadata": {}
  },
  {
   "cell_type": "markdown",
   "source": [
    "**Exercise 1.3 (🌶️):** You look at the clock and see that it is currently 14.00h. You set an alarm to go off 535 hours later. At what time will the alarm go off? Write a program that prints the answer. Hint: for the best solution, you will need the modulo operator. Second hint: The answer is 21.00h, but of course, this exercise is not about the answer, but about how you get it."
   ],
   "metadata": {}
  },
  {
   "cell_type": "code",
   "execution_count": 7,
   "source": [
    "#Your Code Here\r\n",
    "current_time = 14.00\r\n",
    "alarm_after = 535\r\n",
    "no_of_hours_in_a_day = 24\r\n",
    "x = alarm_after%no_of_hours_in_a_day\r\n",
    "no_of_days = alarm_after//no_of_hours_in_a_day\r\n",
    "Alarm_go_off_at = current_time+x\r\n",
    "print(\"Alarm goes off after\",str(no_of_days),\"days at\",str(Alarm_go_off_at),\"O'Clock\")"
   ],
   "outputs": [
    {
     "output_type": "stream",
     "name": "stdout",
     "text": [
      "Alarm goes off after 22 days at 21.0 O'Clock\n"
     ]
    }
   ],
   "metadata": {}
  },
  {
   "cell_type": "markdown",
   "source": [
    "**Exercise 5.4 (🌶️):** \"99 bottles of beer\" is a traditional song in the United States and Canada. It is popular to sing on long trips, as it has a very repetitive format which is easy to memorize, and can take a long time to sing. The song's simple lyrics are as follows: \"99 bottles of beer on the wall, 99 bottles of beer. Take one down, pass it around, 98 bottles of beer on the wall.\" The same verse is repeated, each time with one fewer bottle. The song is completed when the singer or singers reach zero. Write a function that generates and prints all the verses of the song (though you might start a bit lower, for instance with 10 bottles). Make sure that your loop is not endless, and that you use the proper inflection for the word \"bottle\"."
   ],
   "metadata": {}
  },
  {
   "cell_type": "code",
   "execution_count": 11,
   "source": [
    "#Your Code Here\r\n",
    "def beersong(start_from):\r\n",
    "\r\n",
    "    for i in range(start_from,0,-1):\r\n",
    "        print(i,\"Bottels of beer on the wall,\",i,\"bottels of beer.Take one down, pass it around,\", i-1 ,\"bottels in the wall\")\r\n",
    "    \"\"\"\r\n",
    "    5 bottles of beer on the wall, 5 bottles of beer. Take one down, pass it around, 4 bottles of beer in the wall\r\n",
    "    4 bottles of beer on the wall, 4 bottles of beer. Take one down, pass it around, 3 bottles of beer in the wall\r\n",
    "    3 bottles of beer on the wall, 3 bottles of beer. Take one down, pass it around, 2 bottles of beer in the wall\r\n",
    "    2 bottles of beer on the wall, 2 bottles of beer. Take one down, pass it around, 1 bottle of beer in the wall\r\n",
    "    1 bottle of beer on the wall, 1 bottle of beer. Take one down, pass it around, 0 bottles of beer in the wall\r\n",
    "    \"\"\"\r\n",
    "    return\r\n",
    "beersong(10)\r\n"
   ],
   "outputs": [
    {
     "output_type": "stream",
     "name": "stdout",
     "text": [
      "10 Bottels of beer on the wall, 10 bottels of beer.Take one down, pass it around, 9 bottels in the wall\n",
      "9 Bottels of beer on the wall, 9 bottels of beer.Take one down, pass it around, 8 bottels in the wall\n",
      "8 Bottels of beer on the wall, 8 bottels of beer.Take one down, pass it around, 7 bottels in the wall\n",
      "7 Bottels of beer on the wall, 7 bottels of beer.Take one down, pass it around, 6 bottels in the wall\n",
      "6 Bottels of beer on the wall, 6 bottels of beer.Take one down, pass it around, 5 bottels in the wall\n",
      "5 Bottels of beer on the wall, 5 bottels of beer.Take one down, pass it around, 4 bottels in the wall\n",
      "4 Bottels of beer on the wall, 4 bottels of beer.Take one down, pass it around, 3 bottels in the wall\n",
      "3 Bottels of beer on the wall, 3 bottels of beer.Take one down, pass it around, 2 bottels in the wall\n",
      "2 Bottels of beer on the wall, 2 bottels of beer.Take one down, pass it around, 1 bottels in the wall\n",
      "1 Bottels of beer on the wall, 1 bottels of beer.Take one down, pass it around, 0 bottels in the wall\n"
     ]
    }
   ],
   "metadata": {}
  },
  {
   "cell_type": "markdown",
   "source": [
    "**Exercise 5.5 (🌶️):** The Fibonacci sequence is a sequence of numbers that starts with 1, followed by 1 again. Every next number is the sum of the two previous numbers. I.e., the sequence starts with 1, 1, 2, 3, 5, 8, 13, 21,... Write a function that calculates and prints the Fibonacci sequence until the numbers get higher than a `maximum`."
   ],
   "metadata": {}
  },
  {
   "cell_type": "code",
   "execution_count": 30,
   "source": [
    "#Your Code Here\r\n",
    "def fibonacci(n):\r\n",
    "    a = 0\r\n",
    "    b = 1\r\n",
    "    if n < 0:\r\n",
    "        print(\"Incorrect input given\")\r\n",
    "    elif n == 0:\r\n",
    "        return a\r\n",
    "    elif n == 1:\r\n",
    "        return b\r\n",
    "    else:\r\n",
    "        print(a)\r\n",
    "        print(b)\r\n",
    "        for i in range(2,n):\r\n",
    "            c = a + b\r\n",
    "            a = b\r\n",
    "            b = c\r\n",
    "            print(c)\r\n",
    "fibonacci(10)\r\n"
   ],
   "outputs": [
    {
     "output_type": "stream",
     "name": "stdout",
     "text": [
      "0\n",
      "1\n",
      "1\n",
      "2\n",
      "3\n",
      "5\n",
      "8\n",
      "13\n",
      "21\n",
      "34\n"
     ]
    }
   ],
   "metadata": {}
  },
  {
   "cell_type": "markdown",
   "source": [
    "**Exercise 5.8 (🌶️):** A, B, C, and D are all different digits. The number DCBA is equal to 4 times the number ABCD. What are the digits? Note: to make ABCD and DCBA conventional numbers, neither A nor D can be zero. Use a quadruple-nested loop."
   ],
   "metadata": {}
  },
  {
   "cell_type": "code",
   "execution_count": 41,
   "source": [
    "#Your Code Here\r\n",
    "# Solve 4*ABCD == DCBA\r\n",
    "def nested_nest():\r\n",
    "    for i in range(1,10):\r\n",
    "        for j in range(10):\r\n",
    "            for k in range(10):\r\n",
    "                for l in range(1,10):\r\n",
    "                    if (i!=j and i!=k and i!=l and j!=k and j!=l and k!=l):\r\n",
    "                    #print(i,\",\",j,\",\",k,\",\",l)\r\n",
    "                        x = str(i)+str(j)+str(k)+str(l)\r\n",
    "                        if 4*int(x) == int(str(l)+str(k)+str(j)+str(i)):\r\n",
    "                            print(i,\",\",j,\",\",k,\",\",l)\r\n",
    "    return\r\n",
    "\r\n",
    "nested_nest()\r\n"
   ],
   "outputs": [
    {
     "output_type": "stream",
     "name": "stdout",
     "text": [
      "2 , 1 , 7 , 8\n"
     ]
    }
   ],
   "metadata": {}
  }
 ],
 "metadata": {
  "kernelspec": {
   "name": "python3",
   "display_name": "Python 3.9.6 64-bit"
  },
  "language_info": {
   "codemirror_mode": {
    "name": "ipython",
    "version": 3
   },
   "file_extension": ".py",
   "mimetype": "text/x-python",
   "name": "python",
   "nbconvert_exporter": "python",
   "pygments_lexer": "ipython3",
   "version": "3.9.6"
  },
  "interpreter": {
   "hash": "2647ea34e536f865ab67ff9ddee7fd78773d956cec0cab53c79b32cd10da5d83"
  }
 },
 "nbformat": 4,
 "nbformat_minor": 4
}