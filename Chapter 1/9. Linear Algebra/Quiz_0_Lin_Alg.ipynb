{
 "cells": [
  {
   "cell_type": "markdown",
   "source": [
    "# Vectors and Matrices\r\n",
    "Time to work! Do it with numpy first and then if you have time, manually by hand :)"
   ],
   "metadata": {}
  },
  {
   "cell_type": "markdown",
   "source": [
    "## Vectors"
   ],
   "metadata": {}
  },
  {
   "cell_type": "markdown",
   "source": [
    "Lists can be used to represent mathematical vectors. In this exercise and several that follow you will write functions to perform standard operations on vectors. Create a file named vectors.py or use the Jupyter notebook provided\n",
    "\n",
    "Write a function add_vectors(u, v) that takes two lists of numbers of the same length, and returns a new list containing the sums of the corresponding elements of each.\n",
    "\n",
    "**Note that the text in \"\"\" \"\"\" is provided for you to accurately verify that your function works :)**"
   ],
   "metadata": {}
  },
  {
   "cell_type": "code",
   "execution_count": 5,
   "source": [
    "import numpy as np"
   ],
   "outputs": [],
   "metadata": {}
  },
  {
   "cell_type": "code",
   "execution_count": 7,
   "source": [
    "def add_vectors(u, v):\r\n",
    "    \"\"\"\r\n",
    "      >>> add_vectors([1, 0], [1, 1])\r\n",
    "      [2, 1]\r\n",
    "      >>> add_vectors([1, 2], [1, 4])\r\n",
    "      [2, 6]\r\n",
    "      >>> add_vectors([1, 2, 1], [1, 4, 3])\r\n",
    "      [2, 6, 4]\r\n",
    "      >>> add_vectors([11, 0, -4, 5], [2, -4, 17, 0])\r\n",
    "      [13, -4, 13, 5]\r\n",
    "      >>> a = [1, 2, 3]\r\n",
    "      >>> b = [1, 1, 1]\r\n",
    "      >>> add_vectors(a, b)\r\n",
    "      [2, 3, 4]\r\n",
    "      >>> a\r\n",
    "      [1, 2, 3]\r\n",
    "      >>> b\r\n",
    "      [1, 1, 1]\r\n",
    "    \"\"\"\r\n",
    "    sum = u+v\r\n",
    "    return sum\r\n",
    "\r\n",
    "u = np.array([1,2])\r\n",
    "v = np.array([1,4])\r\n",
    "res = add_vectors(u,v)\r\n",
    "print(res)\r\n"
   ],
   "outputs": [
    {
     "output_type": "stream",
     "name": "stdout",
     "text": [
      "[2 6]\n"
     ]
    }
   ],
   "metadata": {
    "ExecuteTime": {
     "end_time": "2021-06-07T12:55:04.065651Z",
     "start_time": "2021-06-07T12:55:04.052145Z"
    }
   }
  },
  {
   "cell_type": "markdown",
   "source": [
    "Write a function scalar_mult(s, v) that takes a number, s, and a list, v and returns the [scalar multiple](https://en.wikipedia.org/wiki/Scalar_multiplication) of v by s."
   ],
   "metadata": {}
  },
  {
   "cell_type": "code",
   "execution_count": 9,
   "source": [
    "def scalar_mult(s, v):\r\n",
    "    \"\"\"\r\n",
    "      >>> scalar_mult(5, [1, 2])\r\n",
    "      [5, 10]\r\n",
    "      >>> scalar_mult(3, [1, 0, -1])\r\n",
    "      [3, 0, -3]\r\n",
    "      >>> scalar_mult(7, [3, 0, 5, 11, 2])\r\n",
    "      [21, 0, 35, 77, 14]\r\n",
    "      >>> a = [1, 2, 3]\r\n",
    "      >>> scalar_mult(4, a)\r\n",
    "      [4, 8, 12]\r\n",
    "      >>> a\r\n",
    "      [1, 2, 3]\r\n",
    "    \"\"\"\r\n",
    "    mult = s*v\r\n",
    "    return mult\r\n",
    "\r\n",
    "s = 5\r\n",
    "v = np.array([1,2])\r\n",
    "multi = scalar_mult(s,v)\r\n",
    "print(multi)"
   ],
   "outputs": [
    {
     "output_type": "stream",
     "name": "stdout",
     "text": [
      "[ 5 10]\n"
     ]
    }
   ],
   "metadata": {
    "ExecuteTime": {
     "end_time": "2021-06-07T12:55:19.258850Z",
     "start_time": "2021-06-07T12:55:19.249823Z"
    }
   }
  },
  {
   "cell_type": "markdown",
   "source": [
    "Write a function dot_product(u, v) that takes two lists of numbers of the same length, and returns the sum of the products of the corresponding elements of each (the [dot_product](https://en.wikipedia.org/wiki/Dot_product)."
   ],
   "metadata": {}
  },
  {
   "cell_type": "code",
   "execution_count": 12,
   "source": [
    "def dot_product(u, v):\r\n",
    "    \"\"\"\r\n",
    "      >>> dot_product([1, 1], [1, 1])\r\n",
    "      2\r\n",
    "      >>> dot_product([1, 2], [1, 4])\r\n",
    "      9\r\n",
    "      >>> dot_product([1, 2, 1], [1, 4, 3])\r\n",
    "      12\r\n",
    "      >>> dot_product([2, 0, -1, 1], [1, 5, 2, 0])\r\n",
    "      0\r\n",
    "    \"\"\"\r\n",
    "    dt = u@v\r\n",
    "    return dt\r\n",
    "\r\n",
    "u = np.array([2,0,-1,1])\r\n",
    "v = np.array([1,5,2,0])\r\n",
    "dt = dot_product(u,v)\r\n",
    "print(dt)"
   ],
   "outputs": [
    {
     "output_type": "stream",
     "name": "stdout",
     "text": [
      "0\n"
     ]
    }
   ],
   "metadata": {
    "ExecuteTime": {
     "end_time": "2021-06-07T12:55:22.647998Z",
     "start_time": "2021-06-07T12:55:22.642607Z"
    }
   }
  },
  {
   "cell_type": "markdown",
   "source": [
    "## Matrices"
   ],
   "metadata": {}
  },
  {
   "cell_type": "markdown",
   "source": [
    "Create a new module named matrices.py or *use the Jupyter notebook provided* and add the following function, which returns a copy of nested lists of numbers such that the lists are not aliases:"
   ],
   "metadata": {}
  },
  {
   "cell_type": "code",
   "execution_count": 15,
   "source": [
    "def copy_matrix(matrix):\r\n",
    "    \"\"\"\r\n",
    "      >>> copy_matrix([[1, 2], [3, 4]])\r\n",
    "      [[1, 2], [3, 4]]\r\n",
    "      >>> copy_matrix([[1, 2, 3], [4, 5, 6]])\r\n",
    "      [[1, 2, 3], [4, 5, 6]]\r\n",
    "      >>> copy_matrix([[1, 2], [3, 4], [5, 6], [7, 8]])\r\n",
    "      [[1, 2], [3, 4], [5, 6], [7, 8]]\r\n",
    "      >>> m = [[1, 0, 0], [0, 2, 0], [0, 0, 3]]\r\n",
    "      >>> copyofm = copy_matrix(m)\r\n",
    "      >>> copyofm\r\n",
    "      [[1, 0, 0], [0, 2, 0], [0, 0, 3]]\r\n",
    "      >>> for row_num, row in enumerate(copyofm):\r\n",
    "      ...     for col_num, col_val in enumerate(row):\r\n",
    "      ...         copyofm[row_num][col_num] = 42\r\n",
    "      ...\r\n",
    "      >>> copyofm\r\n",
    "      [[42, 42, 42], [42, 42, 42], [42, 42, 42]]\r\n",
    "      >>> m\r\n",
    "      [[1, 0, 0], [0, 2, 0], [0, 0, 3]]\r\n",
    "    \"\"\"\r\n",
    "    copy = matrix\r\n",
    "    return copy\r\n",
    "v = np.array([[1,2,3],[4,5,6]])\r\n",
    "res = copy_matrix(v)\r\n",
    "print(res)"
   ],
   "outputs": [
    {
     "output_type": "stream",
     "name": "stdout",
     "text": [
      "[[1 2 3]\n",
      " [4 5 6]]\n"
     ]
    }
   ],
   "metadata": {
    "ExecuteTime": {
     "end_time": "2021-06-07T12:55:25.891991Z",
     "start_time": "2021-06-07T12:55:25.888466Z"
    }
   }
  },
  {
   "cell_type": "code",
   "execution_count": 29,
   "source": [
    "def add_row(matrix):\r\n",
    "    \"\"\"\r\n",
    "      >>> m = [[0, 0], [0, 0]]\r\n",
    "      >>> add_row(m)\r\n",
    "      [[0, 0], [0, 0], [0, 0]]\r\n",
    "      >>> n = [[3, 2, 5], [1, 4, 7]]\r\n",
    "      >>> add_row(n)\r\n",
    "      [[3, 2, 5], [1, 4, 7], [0, 0, 0]]\r\n",
    "      >>> n\r\n",
    "      [[3, 2, 5], [1, 4, 7]]\r\n",
    "    \"\"\"\r\n",
    "    arr = np.vstack(matrix)\r\n",
    "    return arr\r\n",
    "\r\n",
    "arr = np.array([[1,2,3],[4,5,6]])\r\n",
    "row = np.array([7,8,9])\r\n",
    "r = add_row([arr,row])\r\n",
    "print(r)\r\n",
    "\r\n",
    "def add_row(matrix):\r\n",
    "  arr = np.append(matrix[0],[matrix[1]],axis= 0)\r\n",
    "  return arr\r\n",
    "\r\n",
    "arr = np.array([[1,2,3],[4,5,6]])\r\n",
    "row = np.array([7,8,9])\r\n",
    "re = add_row([arr,row])\r\n",
    "print(re)\r\n",
    "\r\n",
    "def add_row(matrix):\r\n",
    "  arr = np.r_[matrix[0],[matrix[1]]]\r\n",
    "  return arr\r\n",
    "\r\n",
    "arr = np.array([[1,2,3],[4,5,6]])\r\n",
    "row = np.array([7,8,9])\r\n",
    "res = add_row([arr,row])\r\n",
    "print(res)\r\n",
    "\r\n",
    "def add_row(matrix):\r\n",
    "  arr = np.concatenate((matrix[0],[matrix[1]]),axis= 0)\r\n",
    "  return arr\r\n",
    "arr = np.array([[1,2,3],[4,5,6]])\r\n",
    "row = np.array([7,8,9])\r\n",
    "resu = add_row([arr,row])\r\n",
    "print(resu)\r\n",
    "\r\n",
    "def add_row(matrix):\r\n",
    "  row_n = matrix[0].shape[0] ##last row\r\n",
    "  arr = np.insert(matrix[0],row_n,[matrix[1]], axis = 0)\r\n",
    "  return arr\r\n",
    "\r\n",
    "arr = np.array([[1,2,3],[4,5,6]])\r\n",
    "row = np.array([7,8,9])\r\n",
    "result = add_row([arr,row])\r\n",
    "print(result)"
   ],
   "outputs": [
    {
     "output_type": "stream",
     "name": "stdout",
     "text": [
      "[[1 2 3]\n",
      " [4 5 6]\n",
      " [7 8 9]]\n",
      "[[1 2 3]\n",
      " [4 5 6]\n",
      " [7 8 9]]\n",
      "[[1 2 3]\n",
      " [4 5 6]\n",
      " [7 8 9]]\n",
      "[[1 2 3]\n",
      " [4 5 6]\n",
      " [7 8 9]]\n",
      "[[1 2 3]\n",
      " [4 5 6]\n",
      " [7 8 9]]\n"
     ]
    }
   ],
   "metadata": {
    "ExecuteTime": {
     "end_time": "2021-06-07T12:55:28.752996Z",
     "start_time": "2021-06-07T12:55:28.749066Z"
    }
   }
  },
  {
   "cell_type": "code",
   "execution_count": 73,
   "source": [
    "\r\n",
    "\r\n",
    "arr = np.array([[1,2],[4,5]])\r\n",
    "row = np.array([[7],[8]])\r\n",
    "arre = np.append(arr,row,axis=1)\r\n",
    "print(arre)"
   ],
   "outputs": [
    {
     "output_type": "stream",
     "name": "stdout",
     "text": [
      "[[1 2 7]\n",
      " [4 5 8]]\n"
     ]
    }
   ],
   "metadata": {
    "ExecuteTime": {
     "end_time": "2021-06-07T12:55:31.190111Z",
     "start_time": "2021-06-07T12:55:31.186840Z"
    }
   }
  },
  {
   "cell_type": "markdown",
   "source": [
    "Write a function add_matrices(m1, m2) that adds m1 and m2 and returns a new matrix containing their sum. You can assume that m1 and m2 are the same size. You add two matrices by adding their corresponding values."
   ],
   "metadata": {}
  },
  {
   "cell_type": "code",
   "execution_count": 78,
   "source": [
    "def add_matrices(m1, m2):\r\n",
    "    \"\"\"\r\n",
    "      >>> a = [[1, 2], [3, 4]]\r\n",
    "      >>> b = [[2, 2], [2, 2]]\r\n",
    "      >>> add_matrices(a, b)\r\n",
    "      [[3, 4], [5, 6]]\r\n",
    "      >>> c = [[8, 2], [3, 4], [5, 7]]\r\n",
    "      >>> d = [[3, 2], [9, 2], [10, 12]]\r\n",
    "      >>> add_matrices(c, d)\r\n",
    "      [[11, 4], [12, 6], [15, 19]]\r\n",
    "      >>> c\r\n",
    "      [[8, 2], [3, 4], [5, 7]]\r\n",
    "      >>> d\r\n",
    "      [[3, 2], [9, 2], [10, 12]]\r\n",
    "   \"\"\"\r\n",
    "    add = np.add(m1,m2)\r\n",
    "    return add\r\n",
    "\r\n",
    "m1 = [[1, 2], [3, 4]]\r\n",
    "m2 = [[2, 2], [2, 2]]\r\n",
    "add_matrices(m1, m2)"
   ],
   "outputs": [
    {
     "output_type": "execute_result",
     "data": {
      "text/plain": [
       "array([[3, 4],\n",
       "       [5, 6]])"
      ]
     },
     "metadata": {},
     "execution_count": 78
    }
   ],
   "metadata": {
    "ExecuteTime": {
     "end_time": "2021-06-07T12:55:42.884497Z",
     "start_time": "2021-06-07T12:55:42.864759Z"
    }
   }
  },
  {
   "cell_type": "markdown",
   "source": [
    "Write a function scalar_mult(s, m) that multiplies a matrix, m, by a scalar, s."
   ],
   "metadata": {}
  },
  {
   "cell_type": "code",
   "execution_count": 82,
   "source": [
    "def scalar_mult(s, m):\r\n",
    "    \"\"\"\r\n",
    "      >>> a = [[1, 2], [3, 4]]\r\n",
    "      >>> scalar_mult(3, a)\r\n",
    "      [[3, 6], [9, 12]]\r\n",
    "      >>> b = [[3, 5, 7], [1, 1, 1], [0, 2, 0], [2, 2, 3]]\r\n",
    "      >>> scalar_mult(10, b)\r\n",
    "      [[30, 50, 70], [10, 10, 10], [0, 20, 0], [20, 20, 30]]\r\n",
    "      >>> b\r\n",
    "      [[3, 5, 7], [1, 1, 1], [0, 2, 0], [2, 2, 3]]\r\n",
    "    \"\"\"\r\n",
    "\r\n",
    "    smul = np.dot(s,m)\r\n",
    "    return smul\r\n",
    "\r\n",
    "s = 3\r\n",
    "m = [[1, 2], [3, 4]]\r\n",
    "scalar_mult(s, m)\r\n",
    "\r\n",
    "\r\n"
   ],
   "outputs": [
    {
     "output_type": "execute_result",
     "data": {
      "text/plain": [
       "array([[ 3,  6],\n",
       "       [ 9, 12]])"
      ]
     },
     "metadata": {},
     "execution_count": 82
    }
   ],
   "metadata": {
    "ExecuteTime": {
     "end_time": "2021-06-07T12:55:47.182931Z",
     "start_time": "2021-06-07T12:55:47.178180Z"
    }
   }
  },
  {
   "cell_type": "markdown",
   "source": [
    "Write functions row_times_column and matrix_mult:"
   ],
   "metadata": {}
  },
  {
   "cell_type": "code",
   "execution_count": 10,
   "source": [
    "def row_times_column(m1, row, m2, column):\r\n",
    "    \"\"\"\r\n",
    "      >>> row_times_column([[1, 2], [3, 4]], 0, [[5, 6], [7, 8]], 0)\r\n",
    "      19\r\n",
    "      >>> row_times_column([[1, 2], [3, 4]], 0, [[5, 6], [7, 8]], 1)\r\n",
    "      22\r\n",
    "      >>> row_times_column([[1, 2], [3, 4]], 1, [[5, 6], [7, 8]], 0)\r\n",
    "      43\r\n",
    "      >>> row_times_column([[1, 2], [3, 4]], 1, [[5, 6], [7, 8]], 1)\r\n",
    "      50\r\n",
    "    \"\"\"\r\n",
    "  "
   ],
   "outputs": [],
   "metadata": {
    "ExecuteTime": {
     "end_time": "2021-06-07T12:55:52.098971Z",
     "start_time": "2021-06-07T12:55:52.095060Z"
    }
   }
  },
  {
   "cell_type": "code",
   "execution_count": 13,
   "source": [
    "def matrix_mult(m1, m2):\r\n",
    "    \"\"\"\r\n",
    "      >>> matrix_mult([[1, 2], [3,  4]], [[5, 6], [7, 8]])\r\n",
    "      [[19, 22], [43, 50]]\r\n",
    "      >>> matrix_mult([[1, 2, 3], [4,  5, 6]], [[7, 8], [9, 1], [2, 3]])\r\n",
    "      [[31, 19], [85, 55]]\r\n",
    "      >>> matrix_mult([[7, 8], [9, 1], [2, 3]], [[1, 2, 3], [4, 5, 6]])\r\n",
    "      [[39, 54, 69], [13, 23, 33], [14, 19, 24]]\r\n",
    "    \"\"\"\r\n",
    "    pass"
   ],
   "outputs": [],
   "metadata": {
    "ExecuteTime": {
     "end_time": "2021-06-07T12:56:10.904256Z",
     "start_time": "2021-06-07T12:56:10.900955Z"
    }
   }
  },
  {
   "cell_type": "markdown",
   "source": [
    "Write a function transpose that takes a matrix as an argument and returns is transpose:"
   ],
   "metadata": {}
  },
  {
   "cell_type": "code",
   "execution_count": 15,
   "source": [
    "def transpose(m):\r\n",
    "    \"\"\"\r\n",
    "     >>> m = [[3, 4, 6]]\r\n",
    "     >>> transpose(m)\r\n",
    "     [[3], [4], [6]]\r\n",
    "     >>> m\r\n",
    "     [3, 4, 6]\r\n",
    "     >>> m = [[3, 4, 6], [1, 5, 9]]\r\n",
    "     >>> transpose(m)\r\n",
    "     [[3, 1], [4, 5], [6, 9]]\r\n",
    "   \"\"\"\r\n",
    "    pass"
   ],
   "outputs": [],
   "metadata": {
    "ExecuteTime": {
     "end_time": "2021-06-07T12:56:20.280054Z",
     "start_time": "2021-06-07T12:56:20.276651Z"
    }
   }
  },
  {
   "cell_type": "code",
   "execution_count": null,
   "source": [],
   "outputs": [],
   "metadata": {}
  }
 ],
 "metadata": {
  "kernelspec": {
   "name": "python3",
   "display_name": "Python 3.8.8 64-bit ('base': conda)"
  },
  "language_info": {
   "codemirror_mode": {
    "name": "ipython",
    "version": 3
   },
   "file_extension": ".py",
   "mimetype": "text/x-python",
   "name": "python",
   "nbconvert_exporter": "python",
   "pygments_lexer": "ipython3",
   "version": "3.8.8"
  },
  "varInspector": {
   "cols": {
    "lenName": 16,
    "lenType": 16,
    "lenVar": 40
   },
   "kernels_config": {
    "python": {
     "delete_cmd_postfix": "",
     "delete_cmd_prefix": "del ",
     "library": "var_list.py",
     "varRefreshCmd": "print(var_dic_list())"
    },
    "r": {
     "delete_cmd_postfix": ") ",
     "delete_cmd_prefix": "rm(",
     "library": "var_list.r",
     "varRefreshCmd": "cat(var_dic_list()) "
    }
   },
   "types_to_exclude": [
    "module",
    "function",
    "builtin_function_or_method",
    "instance",
    "_Feature"
   ],
   "window_display": false
  },
  "interpreter": {
   "hash": "8fac594bfae6525c0c41b4041d2d72effa188cc8ead05f81b1fab2bb098927fb"
  }
 },
 "nbformat": 4,
 "nbformat_minor": 2
}