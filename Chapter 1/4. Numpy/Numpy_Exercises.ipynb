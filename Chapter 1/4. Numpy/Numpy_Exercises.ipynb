{
 "cells": [
  {
   "cell_type": "markdown",
   "source": [
    "## Remember that the solutions need to be saved int variable provided."
   ],
   "metadata": {}
  },
  {
   "cell_type": "code",
   "execution_count": 31,
   "source": [
    "# Import the needed libraries\r\n",
    "import numpy as np"
   ],
   "outputs": [],
   "metadata": {}
  },
  {
   "cell_type": "markdown",
   "source": [
    "**13. Create a 10x10 array with random values and find the minimum and maximum values**"
   ],
   "metadata": {
    "deletable": false,
    "editable": false,
    "nbgrader": {
     "cell_type": "markdown",
     "checksum": "1a39df2a0ee2ece9e42fc92195613df8",
     "grade": false,
     "grade_id": "cell-ae105ff48d81e52c",
     "locked": true,
     "schema_version": 3,
     "solution": false,
     "task": false
    }
   }
  },
  {
   "cell_type": "code",
   "execution_count": 32,
   "source": [
    "# 1 point\r\n",
    "sol1 = np.random.random ((10,10))\r\n",
    "print(sol1)\r\n",
    "y = np.amax(sol1)\r\n",
    "z = np.amin(sol1)\r\n",
    "print(\"Maximum value in the matrix =\",y)\r\n",
    "print(\"Mimimum value in the matrix =\",z)\r\n"
   ],
   "outputs": [
    {
     "output_type": "stream",
     "name": "stdout",
     "text": [
      "[[0.61067273 0.5481867  0.83215261 0.05451778 0.04158821 0.22906741\n",
      "  0.21472865 0.41862988 0.83673728 0.73456295]\n",
      " [0.04493027 0.54616434 0.03598552 0.82905974 0.84549371 0.73195128\n",
      "  0.88024861 0.29101402 0.67238664 0.59154721]\n",
      " [0.30156659 0.45425252 0.23326513 0.78879844 0.06892892 0.71231862\n",
      "  0.99459574 0.13618075 0.03799161 0.88597341]\n",
      " [0.02017552 0.5319379  0.5314023  0.3165499  0.79263982 0.18989322\n",
      "  0.94915631 0.14148484 0.87312107 0.50093541]\n",
      " [0.46591644 0.87425127 0.80873069 0.19997532 0.94134176 0.46634429\n",
      "  0.19917576 0.80575046 0.63288011 0.03353266]\n",
      " [0.24998306 0.13057345 0.03240313 0.43009241 0.83868028 0.55190458\n",
      "  0.69944725 0.93555038 0.85735765 0.91527034]\n",
      " [0.06643657 0.52318487 0.06936483 0.44045473 0.29548417 0.60305924\n",
      "  0.51507027 0.07911521 0.10748075 0.67913642]\n",
      " [0.08594261 0.64856807 0.40520011 0.69328748 0.39562984 0.264921\n",
      "  0.94766493 0.84928094 0.28995497 0.32130265]\n",
      " [0.50050684 0.36698492 0.3255633  0.09253369 0.47638444 0.87084793\n",
      "  0.68280992 0.22520826 0.00237594 0.27756783]\n",
      " [0.64491187 0.93975788 0.11075956 0.07636197 0.56090335 0.29674984\n",
      "  0.51874138 0.87988423 0.64816893 0.30007405]]\n",
      "Maximum value in the matrix = 0.9945957350450285\n",
      "Mimimum value in the matrix = 0.002375941096329881\n"
     ]
    }
   ],
   "metadata": {
    "deletable": false,
    "nbgrader": {
     "cell_type": "code",
     "checksum": "e939193eeb6a59d4260517d4af3eaadb",
     "grade": false,
     "grade_id": "cell-d37d68df72162149",
     "locked": false,
     "schema_version": 3,
     "solution": true,
     "task": false
    }
   }
  },
  {
   "cell_type": "code",
   "execution_count": 33,
   "source": [
    "assert sol1.shape == (10,10)"
   ],
   "outputs": [],
   "metadata": {
    "deletable": false,
    "editable": false,
    "nbgrader": {
     "cell_type": "code",
     "checksum": "783f9069dd18b6ec27701770f225a148",
     "grade": true,
     "grade_id": "cell-f1d4fa08074f4dcd",
     "locked": true,
     "points": 1,
     "schema_version": 3,
     "solution": false,
     "task": false
    }
   }
  },
  {
   "cell_type": "markdown",
   "source": [
    "**15. Create a 2d 10x10 array with 1 on the border and 0 inside**"
   ],
   "metadata": {}
  },
  {
   "cell_type": "code",
   "execution_count": 34,
   "source": [
    "#1 points\r\n",
    "sol2 = np.zeros((8,8))\r\n",
    "sol2 = np.pad(sol2,pad_width=1,mode='constant',constant_values=1)\r\n",
    "print(sol2)\r\n",
    "#raise NotImplementedError()"
   ],
   "outputs": [
    {
     "output_type": "stream",
     "name": "stdout",
     "text": [
      "[[1. 1. 1. 1. 1. 1. 1. 1. 1. 1.]\n",
      " [1. 0. 0. 0. 0. 0. 0. 0. 0. 1.]\n",
      " [1. 0. 0. 0. 0. 0. 0. 0. 0. 1.]\n",
      " [1. 0. 0. 0. 0. 0. 0. 0. 0. 1.]\n",
      " [1. 0. 0. 0. 0. 0. 0. 0. 0. 1.]\n",
      " [1. 0. 0. 0. 0. 0. 0. 0. 0. 1.]\n",
      " [1. 0. 0. 0. 0. 0. 0. 0. 0. 1.]\n",
      " [1. 0. 0. 0. 0. 0. 0. 0. 0. 1.]\n",
      " [1. 0. 0. 0. 0. 0. 0. 0. 0. 1.]\n",
      " [1. 1. 1. 1. 1. 1. 1. 1. 1. 1.]]\n"
     ]
    }
   ],
   "metadata": {
    "deletable": false,
    "nbgrader": {
     "cell_type": "code",
     "checksum": "4f00b53c9ecc26403bf5bd660c3f033c",
     "grade": false,
     "grade_id": "cell-6584e6c544771f0c",
     "locked": false,
     "schema_version": 3,
     "solution": true,
     "task": false
    }
   }
  },
  {
   "cell_type": "code",
   "execution_count": 35,
   "source": [
    "assert sol2.shape == (10,10)\r\n",
    "assert sol2[0].all() == 1\r\n",
    "assert sol2[:,0].all() == 1\r\n",
    "assert sol2[1][1] == 0\r\n",
    "assert sol2[2][2] == 0\r\n",
    "assert sol2[3][3] == 0\r\n",
    "assert sol2[4][4] == 0\r\n",
    "assert sol2[1][2] == 0\r\n",
    "assert sol2[2][3] == 0\r\n",
    "assert sol2[3][4] == 0\r\n",
    "assert sol2[4][5] == 0"
   ],
   "outputs": [],
   "metadata": {
    "deletable": false,
    "editable": false,
    "nbgrader": {
     "cell_type": "code",
     "checksum": "06bd7af6a0273b28869865b4dd35fef5",
     "grade": true,
     "grade_id": "cell-9429aab0f4477a86",
     "locked": true,
     "points": 1,
     "schema_version": 3,
     "solution": false,
     "task": false
    }
   }
  },
  {
   "cell_type": "markdown",
   "source": [
    "**34. How to get all the dates corresponding to the month of July 2016**"
   ],
   "metadata": {}
  },
  {
   "cell_type": "code",
   "execution_count": 36,
   "source": [
    "#2 points\r\n",
    "sol3 = np.arange('2016-07',\"2016-08\",dtype='datetime64[D]')\r\n",
    "print(sol3)\r\n"
   ],
   "outputs": [
    {
     "output_type": "stream",
     "name": "stdout",
     "text": [
      "['2016-07-01' '2016-07-02' '2016-07-03' '2016-07-04' '2016-07-05'\n",
      " '2016-07-06' '2016-07-07' '2016-07-08' '2016-07-09' '2016-07-10'\n",
      " '2016-07-11' '2016-07-12' '2016-07-13' '2016-07-14' '2016-07-15'\n",
      " '2016-07-16' '2016-07-17' '2016-07-18' '2016-07-19' '2016-07-20'\n",
      " '2016-07-21' '2016-07-22' '2016-07-23' '2016-07-24' '2016-07-25'\n",
      " '2016-07-26' '2016-07-27' '2016-07-28' '2016-07-29' '2016-07-30'\n",
      " '2016-07-31']\n"
     ]
    }
   ],
   "metadata": {
    "deletable": false,
    "nbgrader": {
     "cell_type": "code",
     "checksum": "0c0c212e8014f00f5ede5ec4ea42e584",
     "grade": false,
     "grade_id": "cell-9784b014be5fdf5a",
     "locked": false,
     "schema_version": 3,
     "solution": true,
     "task": false
    }
   }
  },
  {
   "cell_type": "code",
   "execution_count": 37,
   "source": [
    "assert sol3.shape == (31,)\r\n",
    "assert type(sol3[0]) is np.datetime64"
   ],
   "outputs": [],
   "metadata": {
    "deletable": false,
    "editable": false,
    "nbgrader": {
     "cell_type": "code",
     "checksum": "b208a834c29619be08b9f9a7887b7087",
     "grade": true,
     "grade_id": "cell-8beeae591e9b50ed",
     "locked": true,
     "points": 2,
     "schema_version": 3,
     "solution": false,
     "task": false
    }
   }
  },
  {
   "cell_type": "markdown",
   "source": [
    "**42. Consider two random arrays based on the normal and uniform distributions 10x10 sol41 and sol42, check if they are equal**"
   ],
   "metadata": {}
  },
  {
   "cell_type": "code",
   "execution_count": 45,
   "source": [
    "#2 points\r\n",
    "#import matplotlib.pyplot as plt\r\n",
    "#import seaborn as sns\r\n",
    "sol41 = np.random.normal(size=(10,10))\r\n",
    "print(sol41)\r\n",
    "\r\n",
    "sol42 = np.random.uniform(size=(10,10))#\r\n",
    "print(sol42)\r\n",
    "\r\n",
    "comparisson = sol41 == sol42\r\n",
    "equal_array = comparisson.all()\r\n",
    "print(equal_array)\r\n"
   ],
   "outputs": [
    {
     "output_type": "stream",
     "name": "stdout",
     "text": [
      "[[-0.8263128   0.43334797 -0.90185288  0.94084218  0.04085967 -0.27424756\n",
      "   0.19697938 -0.28571188 -0.93945387 -0.71915454]\n",
      " [-0.84673372  0.41554194  0.31496075 -1.59550767  1.09519001 -0.70969789\n",
      "   1.06473705 -0.1399221  -1.18465851  0.12152418]\n",
      " [-1.71519558  0.29321976  1.08698881  0.19710731  0.31487785  0.70591998\n",
      "  -0.04085795 -2.39575802 -0.92023366 -1.73978667]\n",
      " [-0.19970237 -1.81277004  2.76149602  0.44323096  1.20034524 -0.84714905\n",
      "  -0.32462131 -1.22026463  1.08099658 -1.90634848]\n",
      " [ 0.24416856  0.41082923 -0.22598885 -1.14133741  0.01643511 -0.53432046\n",
      "  -1.40990279  1.03725967  0.85227547  0.61150876]\n",
      " [ 1.23032919 -0.17526483 -1.68564122  1.54173239  0.33605265 -0.21283154\n",
      "  -1.12769357  1.2598119  -0.51104723  0.12241212]\n",
      " [ 2.53121975  0.39388309  0.46649495 -0.76790093  1.66749098  1.10757216\n",
      "  -0.55740127 -0.24139084  0.33332296  0.21597517]\n",
      " [-0.01451881 -0.34965891 -1.51449758 -0.35744022 -1.59540358 -0.66673756\n",
      "   0.30921657 -0.59120073  0.28656331 -0.2224688 ]\n",
      " [-1.01610107 -0.67663714 -0.82629622 -0.10325716  0.03522043 -0.28100771\n",
      "   0.29970786  0.41486077  0.28090549 -0.24940866]\n",
      " [ 1.43375992 -1.5846461  -0.8808404   1.44144679  0.34497652  0.51976254\n",
      "  -0.60650266  1.5092524  -0.08607508 -0.4050549 ]]\n",
      "[[0.2948084  0.23575334 0.91601017 0.97250662 0.93432207 0.87904617\n",
      "  0.23057162 0.36420353 0.17077939 0.55107836]\n",
      " [0.26276213 0.08884831 0.42171894 0.45195079 0.50351396 0.1598803\n",
      "  0.48945708 0.91923876 0.74592688 0.73334647]\n",
      " [0.03584965 0.31391242 0.25539778 0.93398264 0.01837212 0.97987484\n",
      "  0.70988148 0.39670605 0.45972943 0.80257848]\n",
      " [0.68154148 0.53836495 0.24868413 0.22602207 0.05617872 0.84433773\n",
      "  0.45661634 0.90657227 0.70177944 0.16191127]\n",
      " [0.28393697 0.03941597 0.10304289 0.55099959 0.0489544  0.76650469\n",
      "  0.48539525 0.76112726 0.05638318 0.40814382]\n",
      " [0.86332947 0.92653054 0.31557528 0.97043684 0.94982568 0.64320282\n",
      "  0.92607371 0.77153877 0.23253767 0.48282561]\n",
      " [0.2002793  0.11137448 0.62058226 0.25960157 0.34940702 0.75334865\n",
      "  0.65543561 0.14063262 0.16038349 0.75481537]\n",
      " [0.1583595  0.65080185 0.30150641 0.165075   0.79908765 0.37929517\n",
      "  0.49589195 0.86050666 0.75840046 0.78003941]\n",
      " [0.63750151 0.48789024 0.38139547 0.02050891 0.37819313 0.01800852\n",
      "  0.73847173 0.77600338 0.00753523 0.02858096]\n",
      " [0.15050822 0.26713475 0.46421844 0.45740017 0.10816811 0.09574171\n",
      "  0.14972582 0.53312943 0.62419995 0.7997068 ]]\n",
      "False\n"
     ]
    }
   ],
   "metadata": {
    "deletable": false,
    "nbgrader": {
     "cell_type": "code",
     "checksum": "52c996342988d9baa17167d47cf5701c",
     "grade": false,
     "grade_id": "cell-5000744434ae05a2",
     "locked": false,
     "schema_version": 3,
     "solution": true,
     "task": false
    }
   }
  },
  {
   "cell_type": "code",
   "execution_count": 46,
   "source": [
    "bol = True\r\n",
    "\r\n",
    "for l in comparisson:\r\n",
    "    for c in l:\r\n",
    "        if c:\r\n",
    "            bol = False\r\n",
    "\r\n",
    "\r\n",
    "assert bol"
   ],
   "outputs": [],
   "metadata": {
    "deletable": false,
    "editable": false,
    "nbgrader": {
     "cell_type": "code",
     "checksum": "6b10c43e0c33791bc40a0b3e2e9cc071",
     "grade": true,
     "grade_id": "cell-807bf6c3ff3f3b0d",
     "locked": true,
     "points": 2,
     "schema_version": 3,
     "solution": false,
     "task": false
    }
   }
  },
  {
   "cell_type": "markdown",
   "source": [
    "**72. How to swap two rows of an array?** "
   ],
   "metadata": {}
  },
  {
   "cell_type": "code",
   "execution_count": 49,
   "source": [
    "#3 points\r\n",
    "sol5 = np.array([[1,2,3],[4,5,6]])\r\n",
    "sol5[[0,1],:] = sol5[[1,0],:]\r\n",
    "print(sol5)\r\n"
   ],
   "outputs": [
    {
     "output_type": "stream",
     "name": "stdout",
     "text": [
      "[[4 5 6]\n",
      " [1 2 3]]\n"
     ]
    }
   ],
   "metadata": {
    "deletable": false,
    "nbgrader": {
     "cell_type": "code",
     "checksum": "ccca804156ed12777f188de3084a7145",
     "grade": false,
     "grade_id": "cell-079026f268b5211c",
     "locked": false,
     "schema_version": 3,
     "solution": true,
     "task": false
    }
   }
  },
  {
   "cell_type": "code",
   "execution_count": 50,
   "source": [
    "assert sol5[0][0] == 4\r\n",
    "assert sol5[0][1] == 5\r\n",
    "assert sol5[0][2] == 6\r\n",
    "\r\n",
    "assert sol5[1][0] == 1\r\n",
    "assert sol5[1][1] == 2\r\n",
    "assert sol5[1][2] == 3\r\n"
   ],
   "outputs": [],
   "metadata": {
    "deletable": false,
    "editable": false,
    "nbgrader": {
     "cell_type": "code",
     "checksum": "1ad68d0086b2abc9dd89dc54d9868d2c",
     "grade": true,
     "grade_id": "cell-e4f878f0864f33bd",
     "locked": true,
     "points": 3,
     "schema_version": 3,
     "solution": false,
     "task": false
    }
   }
  },
  {
   "cell_type": "markdown",
   "source": [
    "**75. How to compute averages using a sliding window over an array?**"
   ],
   "metadata": {}
  },
  {
   "cell_type": "code",
   "execution_count": 63,
   "source": [
    "arr = np.array([1,2,3,4,5,6,7,8,9,10])\r\n",
    "sol6 = np.cumsum(arr,dtype=float)/len(arr)\r\n",
    "print(sol6)\r\n",
    "\r\n",
    "\r\n"
   ],
   "outputs": [
    {
     "output_type": "stream",
     "name": "stdout",
     "text": [
      "[0.1 0.3 0.6 1.  1.5 2.1 2.8 3.6 4.5 5.5]\n"
     ]
    }
   ],
   "metadata": {
    "deletable": false,
    "nbgrader": {
     "cell_type": "code",
     "checksum": "ff4ef295ceace892027e6fce4f7eb266",
     "grade": false,
     "grade_id": "cell-ccafbda4e4cb7996",
     "locked": false,
     "schema_version": 3,
     "solution": true,
     "task": false
    }
   }
  },
  {
   "cell_type": "code",
   "execution_count": 64,
   "source": [
    "assert sol6[-1] == 5.5\r\n",
    "assert sol6[0] == 0.1\r\n",
    "assert sol6[4] == 1.5"
   ],
   "outputs": [],
   "metadata": {
    "deletable": false,
    "editable": false,
    "nbgrader": {
     "cell_type": "code",
     "checksum": "fabc3056e9ed22951d83c4012d5ec189",
     "grade": true,
     "grade_id": "cell-1983fc0078a860ff",
     "locked": true,
     "points": 3,
     "schema_version": 3,
     "solution": false,
     "task": false
    }
   }
  },
  {
   "cell_type": "code",
   "execution_count": null,
   "source": [],
   "outputs": [],
   "metadata": {}
  }
 ],
 "metadata": {
  "kernelspec": {
   "name": "python3",
   "display_name": "Python 3.9.6 64-bit"
  },
  "language_info": {
   "codemirror_mode": {
    "name": "ipython",
    "version": 3
   },
   "file_extension": ".py",
   "mimetype": "text/x-python",
   "name": "python",
   "nbconvert_exporter": "python",
   "pygments_lexer": "ipython3",
   "version": "3.9.6"
  },
  "interpreter": {
   "hash": "2647ea34e536f865ab67ff9ddee7fd78773d956cec0cab53c79b32cd10da5d83"
  }
 },
 "nbformat": 4,
 "nbformat_minor": 5
}